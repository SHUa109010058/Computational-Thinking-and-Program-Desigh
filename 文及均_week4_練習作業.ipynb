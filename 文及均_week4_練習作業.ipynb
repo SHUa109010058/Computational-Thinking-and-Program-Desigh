{
  "nbformat": 4,
  "nbformat_minor": 0,
  "metadata": {
    "colab": {
      "name": "文及均-week4-練習作業.ipynb",
      "provenance": [],
      "authorship_tag": "ABX9TyMR/dFy/qzNgMXEjN5QFhoL",
      "include_colab_link": true
    },
    "kernelspec": {
      "name": "python3",
      "display_name": "Python 3"
    },
    "language_info": {
      "name": "python"
    }
  },
  "cells": [
    {
      "cell_type": "markdown",
      "metadata": {
        "id": "view-in-github",
        "colab_type": "text"
      },
      "source": [
        "<a href=\"https://colab.research.google.com/github/SHUa109010058/Computational-Thinking-and-Program-Desigh/blob/main/%E6%96%87%E5%8F%8A%E5%9D%87_week4_%E7%B7%B4%E7%BF%92%E4%BD%9C%E6%A5%AD.ipynb\" target=\"_parent\"><img src=\"https://colab.research.google.com/assets/colab-badge.svg\" alt=\"Open In Colab\"/></a>"
      ]
    },
    {
      "cell_type": "markdown",
      "metadata": {
        "id": "3PgEKD1SsKZS"
      },
      "source": [
        "#自由練習"
      ]
    },
    {
      "cell_type": "code",
      "metadata": {
        "colab": {
          "base_uri": "https://localhost:8080/"
        },
        "id": "N7gW2imPdE1d",
        "outputId": "769ba398-5166-4b84-c460-7300cb2f906d"
      },
      "source": [
        "B = 12\n",
        "A= 10\n",
        "sam=0\n",
        "sam=A-B\n",
        "print(sam)"
      ],
      "execution_count": 13,
      "outputs": [
        {
          "output_type": "stream",
          "text": [
            "-2\n"
          ],
          "name": "stdout"
        }
      ]
    },
    {
      "cell_type": "code",
      "metadata": {
        "colab": {
          "base_uri": "https://localhost:8080/"
        },
        "id": "Zcz6QEiFcGWJ",
        "outputId": "cfb41263-6819-4787-d668-02d3c5ae746a"
      },
      "source": [
        "a=1\n",
        "print(a)"
      ],
      "execution_count": 3,
      "outputs": [
        {
          "output_type": "stream",
          "text": [
            "1\n"
          ],
          "name": "stdout"
        }
      ]
    },
    {
      "cell_type": "code",
      "metadata": {
        "colab": {
          "base_uri": "https://localhost:8080/"
        },
        "id": "DqtvQXq2cOMj",
        "outputId": "95baa4d1-edec-4b93-c5ee-dae48a808411"
      },
      "source": [
        "sam=0\n",
        "A=1\n",
        "B=3\n",
        "sam=A+B\n",
        "print(sam)"
      ],
      "execution_count": 7,
      "outputs": [
        {
          "output_type": "stream",
          "text": [
            "4\n"
          ],
          "name": "stdout"
        }
      ]
    },
    {
      "cell_type": "markdown",
      "metadata": {
        "id": "whktMoMUrx7A"
      },
      "source": [
        "#"
      ]
    },
    {
      "cell_type": "code",
      "metadata": {
        "colab": {
          "base_uri": "https://localhost:8080/"
        },
        "id": "I9248h8Gdw1-",
        "outputId": "00120240-2d4e-4608-8a54-7ad94a1f9844"
      },
      "source": [
        "0.1+0.2+0.3"
      ],
      "execution_count": 14,
      "outputs": [
        {
          "output_type": "execute_result",
          "data": {
            "text/plain": [
              "0.6000000000000001"
            ]
          },
          "metadata": {
            "tags": []
          },
          "execution_count": 14
        }
      ]
    },
    {
      "cell_type": "code",
      "metadata": {
        "colab": {
          "base_uri": "https://localhost:8080/"
        },
        "id": "2Uo_nwOCgFfb",
        "outputId": "19eab624-3c94-4b19-f473-73696ea7918a"
      },
      "source": [
        "print(123)\n",
        "print(\"123\")"
      ],
      "execution_count": 15,
      "outputs": [
        {
          "output_type": "stream",
          "text": [
            "123\n",
            "123\n"
          ],
          "name": "stdout"
        }
      ]
    },
    {
      "cell_type": "code",
      "metadata": {
        "colab": {
          "base_uri": "https://localhost:8080/"
        },
        "id": "tJ0n9ERfgjiF",
        "outputId": "c2c78437-245e-49be-f550-1d7629428423"
      },
      "source": [
        "lover1='人生好難'\n",
        "lover2='難上加難'\n",
        "lover3='找女朋友'\n",
        "lover4='更是困難'\n",
        "print(lover1)\n",
        "print(lover2)\n",
        "print(lover3)\n",
        "print(lover4)"
      ],
      "execution_count": 21,
      "outputs": [
        {
          "output_type": "stream",
          "text": [
            "人生好難\n",
            "難上加難\n",
            "找女朋友\n",
            "更是困難\n"
          ],
          "name": "stdout"
        }
      ]
    },
    {
      "cell_type": "code",
      "metadata": {
        "colab": {
          "base_uri": "https://localhost:8080/"
        },
        "id": "2JLhZWNqhjZY",
        "outputId": "93277e04-5226-4239-a3f1-f664f1215fe0"
      },
      "source": [
        "hello_my_love1 = 'fuck my life/!!'\n",
        "hello_my_love2= \"me/'yeah you are so ugly'\"\n",
        "print(hello_my_love1)"
      ],
      "execution_count": 33,
      "outputs": [
        {
          "output_type": "stream",
          "text": [
            "fuck my life/!!\n"
          ],
          "name": "stdout"
        }
      ]
    },
    {
      "cell_type": "code",
      "metadata": {
        "colab": {
          "base_uri": "https://localhost:8080/"
        },
        "id": "HtQAtXaXi5fS",
        "outputId": "a8761421-ffed-43b5-9327-81d4a42f6c7c"
      },
      "source": [
        "print(hello_my_love1)"
      ],
      "execution_count": 25,
      "outputs": [
        {
          "output_type": "stream",
          "text": [
            "fuck my life\n"
          ],
          "name": "stdout"
        }
      ]
    },
    {
      "cell_type": "code",
      "metadata": {
        "colab": {
          "base_uri": "https://localhost:8080/"
        },
        "id": "2u-cQ1SZjZ1t",
        "outputId": "22868e02-4e59-4ad1-a837-72c9988cfe00"
      },
      "source": [
        "print(lover1)"
      ],
      "execution_count": 27,
      "outputs": [
        {
          "output_type": "stream",
          "text": [
            "人生好難\n"
          ],
          "name": "stdout"
        }
      ]
    },
    {
      "cell_type": "code",
      "metadata": {
        "colab": {
          "base_uri": "https://localhost:8080/"
        },
        "id": "KteNhhelj47a",
        "outputId": "7a158a75-490e-4827-d051-5f7ecbea1821"
      },
      "source": [
        "print(lover1,lover2,lover3,lover4)"
      ],
      "execution_count": 32,
      "outputs": [
        {
          "output_type": "stream",
          "text": [
            "人生好難 難上加難 找女朋友 更是困難\n"
          ],
          "name": "stdout"
        }
      ]
    },
    {
      "cell_type": "code",
      "metadata": {
        "colab": {
          "base_uri": "https://localhost:8080/"
        },
        "id": "-weTC94ikPVF",
        "outputId": "36520642-9274-40cb-97fa-e60602cecf6f"
      },
      "source": [
        "s1=109010058\n",
        "s2='新聞一甲'\n",
        "s3=True\n",
        "s4=False\n",
        "s5=1\n",
        "s6=0\n",
        "print(type(s1))\n",
        "print(type(s2))\n",
        "print(type(s3))\n",
        "print(type(s4))"
      ],
      "execution_count": 43,
      "outputs": [
        {
          "output_type": "stream",
          "text": [
            "<class 'int'>\n",
            "<class 'str'>\n",
            "<class 'bool'>\n",
            "<class 'bool'>\n"
          ],
          "name": "stdout"
        }
      ]
    },
    {
      "cell_type": "code",
      "metadata": {
        "colab": {
          "base_uri": "https://localhost:8080/"
        },
        "id": "k3seqstonjS7",
        "outputId": "2f924310-b17c-478f-b11b-0a5c03a9695b"
      },
      "source": [
        "print(int(s1))"
      ],
      "execution_count": 44,
      "outputs": [
        {
          "output_type": "stream",
          "text": [
            "109010058\n"
          ],
          "name": "stdout"
        }
      ]
    },
    {
      "cell_type": "code",
      "metadata": {
        "colab": {
          "base_uri": "https://localhost:8080/"
        },
        "id": "a3cUB85XoORI",
        "outputId": "194c6c6d-5500-475d-e63e-f9d8a48f8c41"
      },
      "source": [
        "print(str(s1))"
      ],
      "execution_count": 45,
      "outputs": [
        {
          "output_type": "stream",
          "text": [
            "109010058\n"
          ],
          "name": "stdout"
        }
      ]
    },
    {
      "cell_type": "code",
      "metadata": {
        "colab": {
          "base_uri": "https://localhost:8080/"
        },
        "id": "haLcDIX2oTVM",
        "outputId": "678c3aa7-966c-4e58-e31e-75c16dae9a1e"
      },
      "source": [
        "print(bool(s1))\n",
        "print(bool(s2))\n",
        "print(bool(s3))\n",
        "print(bool(s4))"
      ],
      "execution_count": 55,
      "outputs": [
        {
          "output_type": "stream",
          "text": [
            "True\n",
            "True\n",
            "True\n",
            "False\n"
          ],
          "name": "stdout"
        }
      ]
    },
    {
      "cell_type": "code",
      "metadata": {
        "colab": {
          "base_uri": "https://localhost:8080/"
        },
        "id": "c2qZcigiokpq",
        "outputId": "b056e8ad-de8d-46cf-d763-b9da4233c645"
      },
      "source": [
        "me=str(input('what do you want to do?:'))"
      ],
      "execution_count": 62,
      "outputs": [
        {
          "output_type": "stream",
          "text": [
            "what do you want to do?:make a girlfriend\n"
          ],
          "name": "stdout"
        }
      ]
    },
    {
      "cell_type": "code",
      "metadata": {
        "colab": {
          "base_uri": "https://localhost:8080/"
        },
        "id": "liAK70-QqFxu",
        "outputId": "d7e7082b-abb1-4704-b4b1-caef9958f246"
      },
      "source": [
        "print(me)"
      ],
      "execution_count": 64,
      "outputs": [
        {
          "output_type": "stream",
          "text": [
            "make a girlfriend\n"
          ],
          "name": "stdout"
        }
      ]
    },
    {
      "cell_type": "markdown",
      "metadata": {
        "id": "vkKsEHeLr_Hq"
      },
      "source": [
        "#隨堂練習"
      ]
    },
    {
      "cell_type": "code",
      "metadata": {
        "colab": {
          "base_uri": "https://localhost:8080/"
        },
        "id": "QYOa7wrKuCK3",
        "outputId": "46b184ef-7246-4ed0-8653-f9400bba7912"
      },
      "source": [
        "name=input(\"ent your name\")\n",
        "year=int(input(\"please,which calendar year were you born?\"))\n",
        "age=19"
      ],
      "execution_count": 72,
      "outputs": [
        {
          "output_type": "stream",
          "text": [
            "ent your namejimn\n",
            "please,which calendar year were you born?2002\n"
          ],
          "name": "stdout"
        }
      ]
    },
    {
      "cell_type": "code",
      "metadata": {
        "id": "E1uU8gfOucHi"
      },
      "source": [
        ""
      ],
      "execution_count": null,
      "outputs": []
    }
  ]
}