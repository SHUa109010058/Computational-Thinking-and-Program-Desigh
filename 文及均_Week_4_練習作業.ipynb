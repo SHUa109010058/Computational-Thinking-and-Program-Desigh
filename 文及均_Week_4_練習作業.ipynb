{
  "nbformat": 4,
  "nbformat_minor": 0,
  "metadata": {
    "colab": {
      "name": "文及均-Week 4-練習作業.ipynb",
      "provenance": [],
      "authorship_tag": "ABX9TyPl8g9jf/GxGfIn/ADSkm5Q",
      "include_colab_link": true
    },
    "kernelspec": {
      "name": "python3",
      "display_name": "Python 3"
    }
  },
  "cells": [
    {
      "cell_type": "markdown",
      "metadata": {
        "id": "view-in-github",
        "colab_type": "text"
      },
      "source": [
        "<a href=\"https://colab.research.google.com/github/SHUa109010058/Computational-Thinking-and-Program-Desigh/blob/main/%E6%96%87%E5%8F%8A%E5%9D%87_Week_4_%E7%B7%B4%E7%BF%92%E4%BD%9C%E6%A5%AD.ipynb\" target=\"_parent\"><img src=\"https://colab.research.google.com/assets/colab-badge.svg\" alt=\"Open In Colab\"/></a>"
      ]
    },
    {
      "cell_type": "markdown",
      "metadata": {
        "id": "0MZNjK13XJZD"
      },
      "source": [
        "#隨堂練習"
      ]
    },
    {
      "cell_type": "markdown",
      "metadata": {
        "id": "QVfKBMvRXggR"
      },
      "source": [
        "#####hello world"
      ]
    },
    {
      "cell_type": "markdown",
      "metadata": {
        "id": "uJG2GuqVXWJG"
      },
      "source": [
        "#課後練習"
      ]
    },
    {
      "cell_type": "markdown",
      "metadata": {
        "id": "HKo5QhGkXcjE"
      },
      "source": [
        "**從一則新聞報導，提出你對新聞系學生為甚麼要學「運算思維與程式設計」的見解。(告訴我新聞連結，以及你的觀點)**\r\n",
        "https://www.cw.com.tw/article/5080736\r\n",
        "\r\n",
        "我的觀點：現代新聞產業大多都與電腦和程式設計脫離不了關係，尤其當記者常需要面對到報導現場的多樣性，因此我認為在大學期間先培養對電腦及電機設備的先備知識是很重要的。"
      ]
    }
  ]
}