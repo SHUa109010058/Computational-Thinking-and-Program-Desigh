{
  "nbformat": 4,
  "nbformat_minor": 0,
  "metadata": {
    "kernelspec": {
      "display_name": "Python 3",
      "language": "python",
      "name": "python3"
    },
    "language_info": {
      "codemirror_mode": {
        "name": "ipython",
        "version": 3
      },
      "file_extension": ".py",
      "mimetype": "text/x-python",
      "name": "python",
      "nbconvert_exporter": "python",
      "pygments_lexer": "ipython3",
      "version": "3.8.5"
    },
    "colab": {
      "name": "文及均-Week11-練習作業.ipynb",
      "provenance": [],
      "include_colab_link": true
    }
  },
  "cells": [
    {
      "cell_type": "markdown",
      "metadata": {
        "id": "view-in-github",
        "colab_type": "text"
      },
      "source": [
        "<a href=\"https://colab.research.google.com/github/SHUa109010058/Computational-Thinking-and-Program-Desigh/blob/main/%E6%96%87%E5%8F%8A%E5%9D%87_Week11_%E7%B7%B4%E7%BF%92%E4%BD%9C%E6%A5%AD.ipynb\" target=\"_parent\"><img src=\"https://colab.research.google.com/assets/colab-badge.svg\" alt=\"Open In Colab\"/></a>"
      ]
    },
    {
      "cell_type": "markdown",
      "metadata": {
        "id": "BlcvF97wyzb7"
      },
      "source": [
        "# 基本程式設計(應用篇)"
      ]
    },
    {
      "cell_type": "markdown",
      "metadata": {
        "id": "AXmlmzxLyzcD"
      },
      "source": [
        "### 4-2 運算思維四個基石"
      ]
    },
    {
      "cell_type": "markdown",
      "metadata": {
        "id": "myeZB-I3yzcE"
      },
      "source": [
        "#### 4-2-4  問題拆解 - 打造你的聊天機器人"
      ]
    },
    {
      "cell_type": "markdown",
      "metadata": {
        "id": "2W0sUmqMyzcE"
      },
      "source": [
        "「哈囉，大家好。我叫Zyxo64，是一個聊天機器人。\n",
        "\n",
        "在嗜好與興趣方面，我很喜歡美食，也喜歡養動物。\n",
        "\n",
        "很高興有機會來到世新大學，請大家多多指教。\n",
        "\n",
        "嗨！妳好，請問大名？：Francis。\n",
        "\n",
        "Francis，很高興認識你。"
      ]
    },
    {
      "cell_type": "code",
      "metadata": {
        "colab": {
          "base_uri": "https://localhost:8080/"
        },
        "id": "eELrMP9LyzcF",
        "outputId": "3e00dca3-c3d0-4d09-844d-c8225f432645"
      },
      "source": [
        "# 1.聊天機器人自我介紹\n",
        "print('哈囉!大家好!我叫wen-jim，是一個聊天機器人' )\n",
        "\n",
        "print(\"在興趣和嗜好方面我喜歡看電影，也喜歡登山健行\")\n",
        "# 2. 打招呼，取得對方名字\n",
        "hello= \"很高興能和你聊天，請多多指教\"\n",
        "\n",
        "print(hello)\n",
        "\n",
        "print(\"嗨！你好\")\n",
        "\n",
        "name=input(\"請問大名？\")\n",
        "\n",
        "print(f\"{name}，很高興認識你\")"
      ],
      "execution_count": 2,
      "outputs": [
        {
          "output_type": "stream",
          "text": [
            "哈囉!大家好!我叫wen-jim，是一個聊天機器人\n",
            "在興趣和嗜好方面我喜歡看電影，也喜歡登山健行\n",
            "很高興能和你聊天，請多多指教\n",
            "嗨！你好\n",
            "請問大名？jim\n",
            "jim，很高興認識你\n"
          ],
          "name": "stdout"
        }
      ]
    },
    {
      "cell_type": "markdown",
      "metadata": {
        "id": "vIuV0JTDyzcG"
      },
      "source": [
        "抱歉，請問一下今年是西元2021年，那是民國幾年呢？：*110*。\n",
        "\n",
        "對！沒錯，謝謝妳！\n",
        "\n",
        "**Francis**，猜猜看我今年幾歲？ ：**18**。\n",
        "\n",
        "哇！你好聰明，我今年的確*18*。\n",
        "\n",
        "再82年我就100歲了。\n",
        "\n",
        "那時候是西元 2103年，也就是民國192年囉！"
      ]
    },
    {
      "cell_type": "code",
      "metadata": {
        "colab": {
          "base_uri": "https://localhost:8080/"
        },
        "id": "t9s22rRqyzcG",
        "outputId": "c4a23cd3-a975-4a57-fb7a-887013905693"
      },
      "source": [
        "# 3. 數學運算\n",
        "## 3-1 從使用者取得今年年份\n",
        "year = input(\"請問今年是西元2021，那是民國幾年呢？\")\n",
        "print(\"對！沒錯，謝謝你！\") \n",
        "\n",
        "## 3-2 請使用者猜年齡\n",
        "age= input(\"猜猜看我今幾歲了 ：\")\n",
        "print(f\"哇猜對了，你今年的確{age}！\")\n",
        "## 3-3 計算聊天機器人滿100歲的年份\n",
        "year= int(year)\n",
        "age= int(age)\n",
        "print(f\"再{100-age}年我就100歲了\")\n",
        "time=year+1911+(100-age)"
      ],
      "execution_count": 7,
      "outputs": [
        {
          "output_type": "stream",
          "text": [
            "請問今年是西元2021，那是民國幾年呢？110\n",
            "對！沒錯，謝謝你！\n",
            "猜猜看我今幾歲了 ：100\n",
            "哇猜對了，你今年的確100！\n",
            "再0年我就100歲了\n"
          ],
          "name": "stdout"
        }
      ]
    },
    {
      "cell_type": "markdown",
      "metadata": {
        "id": "qxc314G8yzcH"
      },
      "source": [
        "我喜歡吃巧克力，也喜歡嘗試各種新食物。\n",
        "\n",
        "你呢？你最喜歡的食物是什麼？**:披薩**。\n",
        "\n",
        "我也喜歡 *披薩*。\n",
        "\n",
        "你多久吃一次 *披薩*？**：每天**。\n",
        "\n",
        "真有趣。不知道這樣對健康好不好。"
      ]
    },
    {
      "cell_type": "code",
      "metadata": {
        "colab": {
          "base_uri": "https://localhost:8080/"
        },
        "id": "oPTVp77QyzcH",
        "outputId": "3b6845e9-20ce-4bf9-c4cb-41b26cbafbcf"
      },
      "source": [
        "# 4 興趣\n",
        "## 4-1 食物話題\n",
        "print(\"我喜歡吃西瓜，也喜歡嘗試各種食物\")\n",
        "food=input(\"你呢？最喜歡的食物是甚麼？\")\n",
        "print(f\"我也喜歡{food}\")\n",
        "howoften = input(\"你多久吃一次\"+ food + \"？\")\n",
        "print(f\"我知道最近{food}都在特價，但是別吃太多\")"
      ],
      "execution_count": 9,
      "outputs": [
        {
          "output_type": "stream",
          "text": [
            "我喜歡吃西瓜，也喜歡嘗試各種食物\n",
            "你呢？最喜歡的食物是甚麼？西瓜\n",
            "我也喜歡西瓜\n",
            "你多久吃一次西瓜？3天\n",
            "我知道最近西瓜都在特價，但是別吃太多\n"
          ],
          "name": "stdout"
        }
      ]
    },
    {
      "cell_type": "markdown",
      "metadata": {
        "id": "_UNoDs6CyzcH"
      },
      "source": [
        "我最喜歡的動物是長頸鹿。你呢？ **：烏龜**。\n",
        "\n",
        "我不喜歡*烏龜*！\n",
        "\n",
        "不知道 *烏龜* 喜不喜歡吃 *披薩*？"
      ]
    },
    {
      "cell_type": "code",
      "metadata": {
        "colab": {
          "base_uri": "https://localhost:8080/"
        },
        "id": "Os8FRw4jyzcI",
        "outputId": "fd985229-741e-49de-e249-52ea1d841fcc"
      },
      "source": [
        "# 4 興趣\n",
        "## 4-2 動物話題\n",
        "animal=input(\"你喜歡的動物是甚麼：\")\n",
        "print(f\"但我不喜歡{animal}！\")\n",
        "print(f\"不知道{animal}喜不喜歡吃西瓜XD\")"
      ],
      "execution_count": 14,
      "outputs": [
        {
          "output_type": "stream",
          "text": [
            "你喜歡的動物是甚麼：鯊魚\n",
            "但我不喜歡鯊魚！\n",
            "不知道鯊魚喜不喜歡吃西瓜XD\n"
          ],
          "name": "stdout"
        }
      ]
    },
    {
      "cell_type": "markdown",
      "metadata": {
        "id": "BtTA1wxayzcI"
      },
      "source": [
        "你今天的心情如何？ **：很開心**。\n",
        "\n",
        "可以告訴我你 *開心* 的原因嗎？**因為週末了！** \n",
        "\n",
        "祝你週末愉快！\n",
        "\n",
        "我喜歡跟你聊天，現在有點累了，改天再聊吧！！\n",
        "\n",
        "再見 *Francis*！"
      ]
    },
    {
      "cell_type": "code",
      "metadata": {
        "colab": {
          "base_uri": "https://localhost:8080/"
        },
        "id": "kXCedCeFyzcI",
        "outputId": "85b3a227-03e9-44d7-8756-61d9c3553914"
      },
      "source": [
        "# 5. 關於心情的對話\n",
        "mood=input(\"所以你今天心情如何？\")\n",
        "print(f\"那可以告訴我{mood}的原因嗎？\")\n",
        "reason=input(\"你可以在這這裡跟我說:\")\n",
        "print(f\"了解，{reason}，祝你周末愉快\")"
      ],
      "execution_count": 18,
      "outputs": [
        {
          "output_type": "stream",
          "text": [
            "所以你今天心情如何？很開心\n",
            "那可以告訴我很開心的原因嗎？\n",
            "你可以在這這裡跟我說:因為要放假了\n",
            "了解，因為要放假了，祝你周末愉快\n"
          ],
          "name": "stdout"
        }
      ]
    },
    {
      "cell_type": "markdown",
      "metadata": {
        "id": "3-fydZwXyzcI"
      },
      "source": [
        "我喜歡跟你聊天，現在有點累了，改天再聊吧！！\n",
        "\n",
        "再見 *Francis*！"
      ]
    },
    {
      "cell_type": "code",
      "metadata": {
        "colab": {
          "base_uri": "https://localhost:8080/"
        },
        "id": "ELX5CMVwyzcJ",
        "outputId": "6f3761b5-abd1-4e4e-aea2-dde5e777f338"
      },
      "source": [
        "# 6. 道別\n",
        "print(\"跟你聊天很愉快，但我現在有點累了，改天再聊!\")\n",
        "print(f\"再見{name}\")"
      ],
      "execution_count": 19,
      "outputs": [
        {
          "output_type": "stream",
          "text": [
            "跟你聊天很愉快，但我現在有點累了，改天再聊!\n",
            "再見jim\n"
          ],
          "name": "stdout"
        }
      ]
    },
    {
      "cell_type": "markdown",
      "metadata": {
        "id": "hA3OWtqSyzcJ"
      },
      "source": [
        "## 期末報告"
      ]
    },
    {
      "cell_type": "markdown",
      "metadata": {
        "id": "W80b_c2SyzcJ"
      },
      "source": [
        "### 組長(學號姓名):A109010115戴柏妤\n",
        "\n"
      ]
    },
    {
      "cell_type": "markdown",
      "metadata": {
        "id": "guE9mHQ_yzcK"
      },
      "source": [
        "### 組員(學號姓名):A109010058 文及均\n",
        "          A109010142 羅詠馨\n",
        "          A109010043 林維儀\n",
        "          A108050190 梅宇杭\n"
      ]
    },
    {
      "cell_type": "markdown",
      "metadata": {
        "id": "OuONCXokyzcK"
      },
      "source": [
        "### 題目:"
      ]
    },
    {
      "cell_type": "markdown",
      "metadata": {
        "id": "Ci4thdjuyzcK"
      },
      "source": [
        "### 百字腳本\n",
        "\n"
      ]
    }
  ]
}