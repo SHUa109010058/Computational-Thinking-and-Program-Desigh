{
  "nbformat": 4,
  "nbformat_minor": 0,
  "metadata": {
    "colab": {
      "name": "文及均-Week6-練習作業1.ipynb",
      "provenance": [],
      "authorship_tag": "ABX9TyOBj2D5TXGiYbRrmSs+yLOZ",
      "include_colab_link": true
    },
    "kernelspec": {
      "name": "python3",
      "display_name": "Python 3"
    },
    "language_info": {
      "name": "python"
    }
  },
  "cells": [
    {
      "cell_type": "markdown",
      "metadata": {
        "id": "view-in-github",
        "colab_type": "text"
      },
      "source": [
        "<a href=\"https://colab.research.google.com/github/SHUa109010058/Computational-Thinking-and-Program-Desigh/blob/main/%E6%96%87%E5%8F%8A%E5%9D%87_Week6_%E7%B7%B4%E7%BF%92%E4%BD%9C%E6%A5%AD1.ipynb\" target=\"_parent\"><img src=\"https://colab.research.google.com/assets/colab-badge.svg\" alt=\"Open In Colab\"/></a>"
      ]
    },
    {
      "cell_type": "markdown",
      "metadata": {
        "id": "BWLGD5PJrTOl"
      },
      "source": [
        "#隨堂練習3: 情緒變數"
      ]
    },
    {
      "cell_type": "code",
      "metadata": {
        "id": "7vthHQQJY5Gn"
      },
      "source": [
        "a=1\n",
        "print(\"a=\",a)\n",
        "print(1,2,3,4,5, sep= \"/\",end=\"Goodbye my friend\")"
      ],
      "execution_count": null,
      "outputs": []
    },
    {
      "cell_type": "code",
      "metadata": {
        "colab": {
          "base_uri": "https://localhost:8080/"
        },
        "id": "BKM284V_hCPH",
        "outputId": "963dcab9-6558-4b90-beb3-1cb4d3c9110c"
      },
      "source": [
        "print(\"Hello, jim\")\n",
        "\n",
        "name = \"jim\"\n",
        "print(f\"Hello, {name}\")"
      ],
      "execution_count": null,
      "outputs": [
        {
          "output_type": "stream",
          "text": [
            "Hello, jim\n",
            "Hello, jim\n"
          ],
          "name": "stdout"
        }
      ]
    },
    {
      "cell_type": "code",
      "metadata": {
        "colab": {
          "base_uri": "https://localhost:8080/"
        },
        "id": "aM9FsAHFgVQF",
        "outputId": "ce6fc1fa-d04a-405b-cabe-8765aa8dc757"
      },
      "source": [
        "Friday=\"happy\"\n",
        "print(\"today is Friday!\")\n",
        "print(\"today is {}!\".format(Friday))\n",
        "print(f\"today is {Friday} day and I am happy\")"
      ],
      "execution_count": null,
      "outputs": [
        {
          "output_type": "stream",
          "text": [
            "today is Friday!\n",
            "today is happy!\n",
            "today is happy day and I am happy\n"
          ],
          "name": "stdout"
        }
      ]
    },
    {
      "cell_type": "markdown",
      "metadata": {
        "id": "EYu0w5utrdH4"
      },
      "source": [
        "#隨堂練習4: 滑稽故事"
      ]
    },
    {
      "cell_type": "code",
      "metadata": {
        "colab": {
          "base_uri": "https://localhost:8080/"
        },
        "id": "EcH2qwRuoZBK",
        "outputId": "81c7c687-60d2-4369-d23e-ccd2211393ee"
      },
      "source": [
        "name=\"jim\"\n",
        "adjective = \"profession\"\n",
        "favorite_job = \"photographer\"\n",
        "number = \"10\"\n",
        "silly_story = (f\"Hi my name is {name}.I really like {adjective} {favorite_job}! I like it so much, I try to practice it at least {number} times every day.\")\n",
        "print(silly_story)"
      ],
      "execution_count": null,
      "outputs": [
        {
          "output_type": "stream",
          "text": [
            "Hi my name is jim.I really like profession photographer! I like it so much, I try to practice it at least 10 times every day.\n"
          ],
          "name": "stdout"
        }
      ]
    },
    {
      "cell_type": "markdown",
      "metadata": {
        "id": "bALflTZKw8d8"
      },
      "source": [
        "#練習3: 變數賦值，小猴子摘水果\n",
        "有一天，一隻小猴子來到果園裡，牠走道蘋果樹下，看到滿樹的蘋果，就爬上去摘了2個。又看到不滿的地方有一個梨子樹，又大又黃，就丟掉蘋果，爬到梨子樹摘了1個梨子。正準備吃的時候，看到前方又紅又大的桃子樹，就又高高興興地跑到桃樹上，摘了3個桃子。這時傳來小鳥的叫聲，鳥在香蕉樹上，當然就立馬飛奔去摘香蕉，最後吃了6根香蕉。請問這隻猴子摘了多少個水果，手中最後的水果是什麼？請你用Python記錄一下！"
      ]
    },
    {
      "cell_type": "code",
      "metadata": {
        "colab": {
          "base_uri": "https://localhost:8080/"
        },
        "id": "NybRW_Nns3ms",
        "outputId": "d219ffc8-51b3-45f7-cdc8-ff8477f8568c"
      },
      "source": [
        "sum=0\n",
        "apple=1+3\n",
        "pear=2\n",
        "banana=6\n",
        "sum=apple+banana+pear\n",
        "print(sum)\n",
        "print(\"banana\")"
      ],
      "execution_count": null,
      "outputs": [
        {
          "output_type": "stream",
          "text": [
            "12\n",
            "banana\n"
          ],
          "name": "stdout"
        }
      ]
    },
    {
      "cell_type": "markdown",
      "metadata": {
        "id": "hYoNkM2pyovR"
      },
      "source": [
        "#練習4: 是真的嗎？網路資料不輕信\n",
        "\n",
        "宣宣這學期開始學習Python，老師和學長姊都說多上網查找相關資料，多多麻煩Google大神找答案，是提升自學能力最好的方法。於是她看到一段與上課有關但老師沒有教的內容，宣宣想看看下面的內容正不正確，你能幫助她嗎？(1)在Python中，用1表示True，用0和其他非1的整數表示False。(2)在Python中，所有物件都可以進行布林測試。"
      ]
    },
    {
      "cell_type": "code",
      "metadata": {
        "id": "WPLGoDJWyRA4",
        "colab": {
          "base_uri": "https://localhost:8080/"
        },
        "outputId": "1136e7e5-6148-4d67-dbf2-6894a7a10885"
      },
      "source": [
        "print(bool(1))\n",
        "print(bool(0))\n",
        "print(bool(\"hello world!\"))"
      ],
      "execution_count": 2,
      "outputs": [
        {
          "output_type": "stream",
          "text": [
            "True\n",
            "False\n",
            "True\n"
          ],
          "name": "stdout"
        }
      ]
    },
    {
      "cell_type": "markdown",
      "metadata": {
        "id": "2t0GGb8Cy5Lw"
      },
      "source": [
        "#隨堂練習2: 國軍定義的危險係數公式如下，依照危險係數來判斷是否能外出操課。\n",
        "\n",
        "危險係數 = 室外攝氏溫度 + 室外相對濕度(%) * 0.1\n",
        "\n",
        "(1)若室外溫度為攝氏32度，室外相對濕度為70％，請輸出相對應的危險係數。\n",
        "\n",
        "(2)請輸入室外溫度、輸入室外相對濕度後，輸出相對應的危險係數。"
      ]
    },
    {
      "cell_type": "code",
      "metadata": {
        "colab": {
          "base_uri": "https://localhost:8080/"
        },
        "id": "FqthxBghRQ_-",
        "outputId": "519bdadc-686e-4d4a-b71a-080633008996"
      },
      "source": [
        "c,h=32,70\n",
        "print(\"室外溫度\",c,\"室外相對濕度：\",h,\"危險係數\",c+h*0.1)\n",
        "c=float(input(\"室外溫度：\"))\n",
        "h=float(input(\"室外相對濕度：\"))\n",
        "print(f'室外溫度：{c} 室外相對濕度：{h} 危險係數：{c+h*0.1}')\n",
        "print(\"室外溫度:{:10.2f} 室外相對濕度：{:10.2f} 危險係數：{:10.2f}\".format(c,h,c+h*0.1))"
      ],
      "execution_count": 5,
      "outputs": [
        {
          "output_type": "stream",
          "text": [
            "室外溫度 32 室外相對濕度： 70 危險係數 39.0\n",
            "室外溫度：40\n",
            "室外相對濕度：20\n",
            "室外溫度：40.0 室外相對濕度：20.0 危險係數：42.0\n",
            "室外溫度:     40.00 室外相對濕度：     20.00 危險係數：     42.00\n"
          ],
          "name": "stdout"
        }
      ]
    },
    {
      "cell_type": "code",
      "metadata": {
        "id": "2Al9lFz7RUtp"
      },
      "source": [
        ""
      ],
      "execution_count": null,
      "outputs": []
    }
  ]
}