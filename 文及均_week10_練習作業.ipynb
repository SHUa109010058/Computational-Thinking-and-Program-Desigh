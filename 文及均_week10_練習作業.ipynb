{
  "nbformat": 4,
  "nbformat_minor": 0,
  "metadata": {
    "colab": {
      "name": "文及均-week10-練習作業.ipynb",
      "provenance": [],
      "authorship_tag": "ABX9TyPbLZjR9ms+kbT0IG4Hiam0",
      "include_colab_link": true
    },
    "kernelspec": {
      "name": "python3",
      "display_name": "Python 3"
    },
    "language_info": {
      "name": "python"
    }
  },
  "cells": [
    {
      "cell_type": "markdown",
      "metadata": {
        "id": "view-in-github",
        "colab_type": "text"
      },
      "source": [
        "<a href=\"https://colab.research.google.com/github/SHUa109010058/Computational-Thinking-and-Program-Desigh/blob/main/%E6%96%87%E5%8F%8A%E5%9D%87_week10_%E7%B7%B4%E7%BF%92%E4%BD%9C%E6%A5%AD.ipynb\" target=\"_parent\"><img src=\"https://colab.research.google.com/assets/colab-badge.svg\" alt=\"Open In Colab\"/></a>"
      ]
    },
    {
      "cell_type": "markdown",
      "metadata": {
        "id": "G4GBhXViueeV"
      },
      "source": [
        "#### 4-2-2.  演算法 - 時間轉換"
      ]
    },
    {
      "cell_type": "code",
      "metadata": {
        "colab": {
          "base_uri": "https://localhost:8080/"
        },
        "id": "NBYUqORuskob",
        "outputId": "b200d715-7288-431b-dad5-5cfc3c668c4d"
      },
      "source": [
        "total=0\n",
        "total=total + (6*60+32)\n",
        "total=total + (7*60+21)\n",
        "total=total + (5*60+51)\n",
        "total=total + (7*60+3)\n",
        "total=total + (5*60+48)\n",
        "minutes = total // 60\n",
        "seconds = total % 60\n",
        "\n",
        "print(f\"跑步時間為{minutes}分鐘{seconds}秒\")"
      ],
      "execution_count": 2,
      "outputs": [
        {
          "output_type": "stream",
          "text": [
            "跑步時間為32分鐘35秒\n"
          ],
          "name": "stdout"
        }
      ]
    },
    {
      "cell_type": "markdown",
      "metadata": {
        "id": "yRgXOkYjueeX"
      },
      "source": [
        "#### 4-2-3. 模式辨識 - 報告分組"
      ]
    },
    {
      "cell_type": "markdown",
      "metadata": {
        "id": "adkXACkOueeX"
      },
      "source": [
        "**範例說明：報告分組**\n",
        "\n",
        "因為教學需求，全班40位同學要進行分組報告，每五位同學一組，老師規定依座號順序分組，也就是1號到5號一組，6號到10號一組，請寫一個程式允許使用者輸入座號，輸出分組的組別。"
      ]
    },
    {
      "cell_type": "code",
      "metadata": {
        "id": "JQ9w-5VAueeY"
      },
      "source": [
        "～預覽結果\n",
        "輸入座號，例如「19」，計算結果顯示在螢幕如下。\n",
        "請輸入座號？19\n",
        "組別為 4\n",
        "\n",
        "～運算思維：模式辨識\n",
        "\n",
        "1 ，1/5 ......= 0.2  -> 商數0餘數1 ->  0,0\n",
        "\n",
        "2，2/5 ......= 0.4   -> 商數0餘數2 ->  0,1\n",
        "\n",
        "3，3/5 ......= 0.6   ->  商數0餘數3 -> 0,2\n",
        "\n",
        "4， 4/5 ......= 0.8  ->  商數0餘數4 -> 0,3\n",
        "\n",
        "5，5/5 ...... = 1     ->  商數1餘數0 -> 0,4"
      ],
      "execution_count": null,
      "outputs": []
    },
    {
      "cell_type": "code",
      "metadata": {
        "id": "X5iOYJ-uueeY"
      },
      "source": [
        "## 運算思維 - 模式辨識\n",
        "## 方法（一）：餘數位置從0開始 + 商數為組數\n",
        "seats = int(input('請輸入座號？')) #文字轉數字\n",
        "groups = (seats - 1)//5 + 1\n",
        "print('組別為', groups)\n",
        "\n",
        "## 方法（二）：函式（上限為組別）\n",
        "import math\n",
        "seats = int(input(\"請輸入座號？\"))\n",
        "groups = math.ceil(seats/5)\n",
        "print(\"組別為\",groups)\n",
        "\n",
        "## 方法（三）：用餘數為條件分組\n",
        "seats = int(input(\"請輸入座號？ \"))\n",
        "if seats%5 == 0:\n",
        "    print(\"組別為\", seats//5)\n",
        "else:\n",
        "    print(\"組別為\", seats//5 +1)"
      ],
      "execution_count": null,
      "outputs": []
    },
    {
      "cell_type": "code",
      "metadata": {
        "colab": {
          "base_uri": "https://localhost:8080/"
        },
        "id": "U74rvUkNzPSU",
        "outputId": "6f80210c-bfae-46b7-a224-c77d57b20420"
      },
      "source": [
        "seat = int(input('座號？'))\n",
        "group = (seat - 1)//5 + 1\n",
        "print(\"組別為\", group)"
      ],
      "execution_count": 6,
      "outputs": [
        {
          "output_type": "stream",
          "text": [
            "座號？4\n",
            "組別為 1\n"
          ],
          "name": "stdout"
        }
      ]
    },
    {
      "cell_type": "markdown",
      "metadata": {
        "id": "JJCngaTXuhSh"
      },
      "source": [
        "\n",
        "**練習17: 農夫的難題**\n",
        "\n",
        "一位農夫帶著一條狼，一隻羊和一籃蔬菜過河但只有一條小船，並且每次只能讓農夫帶一樣東西過河。農夫在場的情況下一切相安無事，一旦農夫不在，狼會吃羊，洋會吃蔬菜。你幫助農夫解決過河的難題嗎？"
      ]
    },
    {
      "cell_type": "code",
      "metadata": {
        "colab": {
          "base_uri": "https://localhost:8080/"
        },
        "id": "9Qcn0jpk7B8x",
        "outputId": "e87cbe77-5803-4dd7-8850-725beb415807"
      },
      "source": [
        "a=1000+100+10+1  #農夫渡河前\n",
        "b=0\n",
        "a=a-10\n",
        "b=b+10\n",
        "a=a-100+10\n",
        "b=b+100-10\n",
        "a=a-1\n",
        "b=b=1\n",
        "a=a-10-1000\n",
        "b=b+10+1000\n",
        "print(a,b)    #渡河結果"
      ],
      "execution_count": 11,
      "outputs": [
        {
          "output_type": "stream",
          "text": [
            "0 1011\n"
          ],
          "name": "stdout"
        }
      ]
    },
    {
      "cell_type": "code",
      "metadata": {
        "id": "vbQezepL8jB8"
      },
      "source": [
        ""
      ],
      "execution_count": null,
      "outputs": []
    }
  ]
}